{
  "nbformat": 4,
  "nbformat_minor": 0,
  "metadata": {
    "colab": {
      "name": "TextPreproc",
      "provenance": [],
      "collapsed_sections": [
        "gAVWbA9XcuT7",
        "VQsXtMJkdBCr",
        "8KlrwFCPdNnz",
        "1bk7FJEfddXF",
        "DZ9R39PL7yOC",
        "t0ZSO36cB5UX",
        "woDZ_td4OzXQ",
        "5D7ySIEsXRRb"
      ]
    },
    "kernelspec": {
      "name": "python3",
      "display_name": "Python 3"
    }
  },
  "cells": [
    {
      "cell_type": "markdown",
      "metadata": {
        "id": "gAVWbA9XcuT7",
        "colab_type": "text"
      },
      "source": [
        "#Установка Наташи и скачивание моделей русского языка"
      ]
    },
    {
      "cell_type": "code",
      "metadata": {
        "id": "fIKfH6aGHsvc",
        "colab_type": "code",
        "outputId": "8ca2e53d-a71a-4a70-d37e-fae80f2b2e10",
        "colab": {
          "base_uri": "https://localhost:8080/",
          "height": 595
        }
      },
      "source": [
        "!pip install natasha\n",
        "!wget https://rusvectores.org/static/models/rusvectores4/fasttext/araneum_none_fasttextcbow_300_5_2018.tgz\n",
        "!tar -xvzf araneum_none_fasttextcbow_300_5_2018.tgz"
      ],
      "execution_count": 0,
      "outputs": [
        {
          "output_type": "stream",
          "text": [
            "Collecting natasha\n",
            "\u001b[?25l  Downloading https://files.pythonhosted.org/packages/4b/9d/3330c5a8c98f45a6f090cc8bfaa1132a58ead75cedec5ac758b2999bf34c/natasha-0.10.0-py2.py3-none-any.whl (777kB)\n",
            "\u001b[K     |████████████████████████████████| 778kB 3.5MB/s \n",
            "\u001b[?25hCollecting yargy\n",
            "\u001b[?25l  Downloading https://files.pythonhosted.org/packages/37/64/d6abf637228bed6b0249b522f588d19dca9f09ab65db13bef41096f51889/yargy-0.12.0-py2.py3-none-any.whl (41kB)\n",
            "\u001b[K     |████████████████████████████████| 51kB 7.3MB/s \n",
            "\u001b[?25hCollecting backports.functools-lru-cache==1.3\n",
            "  Downloading https://files.pythonhosted.org/packages/d4/40/0b1db94fdfd71353ae67ec444ff28e0a7ecc25212d1cb94c291b6cd226f9/backports.functools_lru_cache-1.3-py2.py3-none-any.whl\n",
            "Collecting pymorphy2==0.8\n",
            "\u001b[?25l  Downloading https://files.pythonhosted.org/packages/a3/33/fff9675c68b5f6c63ec8c6e6ff57827dda28a1fa5b2c2d727dffff92dd47/pymorphy2-0.8-py2.py3-none-any.whl (46kB)\n",
            "\u001b[K     |████████████████████████████████| 51kB 6.9MB/s \n",
            "\u001b[?25hCollecting pymorphy2-dicts<3.0,>=2.4\n",
            "\u001b[?25l  Downloading https://files.pythonhosted.org/packages/02/51/2465fd4f72328ab50877b54777764d928da8cb15b74e2680fc1bd8cb3173/pymorphy2_dicts-2.4.393442.3710985-py2.py3-none-any.whl (7.1MB)\n",
            "\u001b[K     |████████████████████████████████| 7.1MB 25.6MB/s \n",
            "\u001b[?25hRequirement already satisfied: docopt>=0.6 in /usr/local/lib/python3.6/dist-packages (from pymorphy2==0.8->yargy->natasha) (0.6.2)\n",
            "Collecting dawg-python>=0.7\n",
            "  Downloading https://files.pythonhosted.org/packages/6a/84/ff1ce2071d4c650ec85745766c0047ccc3b5036f1d03559fd46bb38b5eeb/DAWG_Python-0.7.2-py2.py3-none-any.whl\n",
            "Installing collected packages: backports.functools-lru-cache, pymorphy2-dicts, dawg-python, pymorphy2, yargy, natasha\n",
            "Successfully installed backports.functools-lru-cache-1.3 dawg-python-0.7.2 natasha-0.10.0 pymorphy2-0.8 pymorphy2-dicts-2.4.393442.3710985 yargy-0.12.0\n",
            "--2020-04-30 15:06:51--  https://rusvectores.org/static/models/rusvectores4/fasttext/araneum_none_fasttextcbow_300_5_2018.tgz\n",
            "Resolving rusvectores.org (rusvectores.org)... 116.203.104.23\n",
            "Connecting to rusvectores.org (rusvectores.org)|116.203.104.23|:443... connected.\n",
            "HTTP request sent, awaiting response... 200 OK\n",
            "Length: 2691248108 (2.5G) [application/x-gzip]\n",
            "Saving to: ‘araneum_none_fasttextcbow_300_5_2018.tgz’\n",
            "\n",
            "araneum_none_fastte 100%[===================>]   2.51G  25.8MB/s    in 1m 40s  \n",
            "\n",
            "2020-04-30 15:08:31 (25.6 MB/s) - ‘araneum_none_fasttextcbow_300_5_2018.tgz’ saved [2691248108/2691248108]\n",
            "\n",
            "araneum_none_fasttextcbow_300_5_2018.model\n",
            "araneum_none_fasttextcbow_300_5_2018.model.vectors_ngrams.npy\n",
            "araneum_none_fasttextcbow_300_5_2018.model.vectors.npy\n",
            "araneum_none_fasttextcbow_300_5_2018.model.vectors_vocab.npy\n"
          ],
          "name": "stdout"
        }
      ]
    },
    {
      "cell_type": "markdown",
      "metadata": {
        "id": "VQsXtMJkdBCr",
        "colab_type": "text"
      },
      "source": [
        "#Тестирование Наташи"
      ]
    },
    {
      "cell_type": "code",
      "metadata": {
        "id": "RUG9kQl0CDDJ",
        "colab_type": "code",
        "outputId": "b0e790a0-4b5a-4cbd-90b0-961aac4c4ff9",
        "colab": {
          "base_uri": "https://localhost:8080/",
          "height": 119
        }
      },
      "source": [
        "import natasha\n",
        "\n",
        "from natasha import NamesExtractor\n",
        "from natasha import DatesExtractor\n",
        "\n",
        "\n",
        "text = '''\n",
        "Король Арту́р — по преданиям, правитель королевства Логрес, легендарный вождь бриттов V—VI веков, разгромивший завоевателей-саксов. \n",
        "Самый знаменитый из кельтских героев, центральный герой британского эпоса и многочисленных рыцарских романов. \n",
        "Многие историки допускают существование исторического прототипа Артура.\n",
        "'''\n",
        "t = '''\n",
        "Главная достопримечательностью Сан-Франциско построен через пролив с одноименным названием и соединяет городской залив с Тихим океаном. \n",
        "Конструкция представляет собой висячий мост с подвешенной проезжей частью, а его длина составляет 1970 м. Работы по возведению моста длились с 1933 по 1937 годы, во времена Великой депрессии и в период становления города от последствий землетрясения 1906 г. Разработчиком проекта был Джозеф Строусс – лучший инженер того времяни по строительству мостов. В конце мая 1937 г. состоялось торжественное открытие самого большого висячей моста в мире на тот момент, \n",
        "данный статус мост Золотые ворота сохранял до 1964 г., пока его не обошел нью-йоркский мост Верразано. Уникальный мост признан символом США и является гордостью американского народа.\n",
        "'''\n",
        "\n",
        "extractor = NamesExtractor()\n",
        "matches = extractor(text)\n",
        "for match in matches:\n",
        "    print(match.span, match.fact)\n",
        "\n",
        "extractor2 =  DatesExtractor()\n",
        "matches = extractor2(t)\n",
        "for match in matches:\n",
        "    print(match.span, match.fact)\n"
      ],
      "execution_count": 0,
      "outputs": [
        {
          "output_type": "stream",
          "text": [
            "[53, 59) Name(first='логрес', middle=None, last=None, nick=None)\n",
            "[309, 315) Name(first='артур', middle=None, last=None, nick=None)\n",
            "[289, 298) Date(year=1937, month=None, day=None, current_era=True)\n",
            "[388, 395) Date(year=1906, month=None, day=None, current_era=True)\n",
            "[500, 511) Date(year=1937, month=5, day=None, current_era=True)\n",
            "[645, 652) Date(year=1964, month=None, day=None, current_era=True)\n"
          ],
          "name": "stdout"
        }
      ]
    },
    {
      "cell_type": "markdown",
      "metadata": {
        "id": "8KlrwFCPdNnz",
        "colab_type": "text"
      },
      "source": [
        "#Тестирование pymorphy"
      ]
    },
    {
      "cell_type": "code",
      "metadata": {
        "id": "dhd2wFOvGCAu",
        "colab_type": "code",
        "outputId": "16dd0752-d68c-4039-a7fe-9cd0b10de3be",
        "colab": {
          "base_uri": "https://localhost:8080/",
          "height": 102
        }
      },
      "source": [
        "import pymorphy2\n",
        "\n",
        "morph = pymorphy2.MorphAnalyzer()\n",
        "mp = morph.parse(\"фильма\")\n",
        "\n",
        "print('Начальная форма: '+mp[0].normal_form)# Начальная форма\n",
        "print('Часть речи: '+mp[0].tag.POS ) # Часть речи\n",
        "print('Одушевлено: '+str(mp[0].tag.animacy == 'anim') ) # Проверка на одушевленность\n",
        "print('Род: '+mp[0].tag.gender) # Род\n",
        "print('Падеж: '+mp[0].tag.case) # Падеж"
      ],
      "execution_count": 0,
      "outputs": [
        {
          "output_type": "stream",
          "text": [
            "Начальная форма: фильм\n",
            "Часть речи: NOUN\n",
            "Одушевлено: False\n",
            "Род: masc\n",
            "Падеж: gent\n"
          ],
          "name": "stdout"
        }
      ]
    },
    {
      "cell_type": "markdown",
      "metadata": {
        "id": "1bk7FJEfddXF",
        "colab_type": "text"
      },
      "source": [
        "#Инициализациализация модели W2V"
      ]
    },
    {
      "cell_type": "code",
      "metadata": {
        "id": "5XJqitHwHnCL",
        "colab_type": "code",
        "outputId": "2d2ff034-9a3b-4515-ac33-1ee456b70b79",
        "colab": {
          "base_uri": "https://localhost:8080/",
          "height": 71
        }
      },
      "source": [
        "import gensim\n",
        "import numpy as np\n",
        "\n",
        "model = gensim.models.KeyedVectors.load(\"araneum_none_fasttextcbow_300_5_2018.model\")\n"
      ],
      "execution_count": 0,
      "outputs": [
        {
          "output_type": "stream",
          "text": [
            "/usr/local/lib/python3.6/dist-packages/smart_open/smart_open_lib.py:253: UserWarning: This function is deprecated, use smart_open.open instead. See the migration notes for details: https://github.com/RaRe-Technologies/smart_open/blob/master/README.rst#migrating-to-the-new-open-function\n",
            "  'See the migration notes for details: %s' % _MIGRATION_NOTES_URL\n"
          ],
          "name": "stderr"
        }
      ]
    },
    {
      "cell_type": "markdown",
      "metadata": {
        "id": "DZ9R39PL7yOC",
        "colab_type": "text"
      },
      "source": [
        "#Весовая функция"
      ]
    },
    {
      "cell_type": "code",
      "metadata": {
        "id": "tfxuYkol74NO",
        "colab_type": "code",
        "colab": {}
      },
      "source": [
        "# пример весовой функции\n",
        "def Wf(word):\n",
        "  morph = pymorphy2.MorphAnalyzer()\n",
        "  p = morph.parse(word)[0]\n",
        "  if p.tag.POS == 'NOUN':\n",
        "    if p.tag.case == 'nomn':\n",
        "      return 5\n",
        "    else:\n",
        "      return 3\n",
        "  elif (p.tag.POS == 'VERB') or (p.tag.POS == 'INFN'):\n",
        "    return 1.5\n",
        "  else:\n",
        "    return 0.7"
      ],
      "execution_count": 0,
      "outputs": []
    },
    {
      "cell_type": "markdown",
      "metadata": {
        "id": "42hVKYlFdzxi",
        "colab_type": "text"
      },
      "source": [
        "#Основные функции"
      ]
    },
    {
      "cell_type": "code",
      "metadata": {
        "id": "IX0u2P4HIZWS",
        "colab_type": "code",
        "colab": {}
      },
      "source": [
        "import re\n",
        "\n",
        "# Преобразование слова в вектор\n",
        "def W2V(word):\n",
        "  try:\n",
        "    morph = pymorphy2.MorphAnalyzer()\n",
        "    mp = morph.parse(word)\n",
        "    word2 = mp[0].normal_form # Приведение к нормальной форме\n",
        "    word2 = word2.replace('ё', 'е')\n",
        "    vect = model[word2] # Вычисление вектора\n",
        "    return vect\n",
        "  except:\n",
        "    return np.zeros(300)\n",
        "\n",
        "# Преобразование предложения в вектор\n",
        "def Seq2Vec(seq, isCentr = False): \n",
        "  seq = str(seq)\n",
        "  seq = seq.replace('\\n',' ')\n",
        "\n",
        "  while '  ' in seq:\n",
        "    seq = seq.replace('  ', ' ')\n",
        "\n",
        "  reg = re.compile('[^A-zА-яЁё ]')\n",
        "  seq2 = reg.sub('', seq)\n",
        "  seqArray = seq2.split(' ')\n",
        "  vecSeq = np.zeros(300)\n",
        "  wSum = 0\n",
        "\n",
        "  for i in seqArray:\n",
        "    w = Wf(i)\n",
        "    wSum+=w\n",
        "    vecSeq += w*W2V(i)\n",
        "\n",
        "  if isCentr: # Центрирование и нормализация\n",
        "    vecSeq -= np.mean(vecSeq)\n",
        "    vecSeq /= np.std(vecSeq)+1e-24\n",
        "  else:\n",
        "    vecSeq = vecSeq/wSum#/len(seqArray)\n",
        "\n",
        "  return vecSeq\n",
        "\n",
        "# Сравнение текстов\n",
        "def SimSeq(seq1, seq2, isCentr = False):\n",
        "  return np.corrcoef(Seq2Vec(seq1, isCentr), Seq2Vec(seq2, isCentr))[0,1] # Получение коэффициента корреляции"
      ],
      "execution_count": 0,
      "outputs": []
    },
    {
      "cell_type": "markdown",
      "metadata": {
        "id": "fN1agH3wd6yM",
        "colab_type": "text"
      },
      "source": [
        "#Тест gensim + pymorphy"
      ]
    },
    {
      "cell_type": "code",
      "metadata": {
        "id": "cZST8SnxLLmd",
        "colab_type": "code",
        "outputId": "e872fdf0-fecf-4141-c190-e37c1bc1a794",
        "colab": {
          "base_uri": "https://localhost:8080/",
          "height": 34
        }
      },
      "source": [
        "text = '''\n",
        "Шаблон регулярного выражения представляет собой специальный язык, \n",
        "используемый для представления общего текста, цифр или символов, извлечения текстов, соответствующих этому шаблону.\n",
        "'''\n",
        "\n",
        "text1 = '''\n",
        "Смотрю веселый сериал\n",
        "'''\n",
        "\n",
        "text2 = '''\n",
        "Такие языки как Perl и Ruby фактически поддерживают синтаксис регулярных выражений прямо в собственном языке. \n",
        "Python же поддерживает благодаря библиотеки, которую вам нужно импортировать. \n",
        "Основное использование регулярных выражений – это сопоставление строк\n",
        "'''\n",
        "\n",
        "text3 ='''\n",
        "Когда-то видел классный фильм\n",
        "'''\n",
        "\n",
        "SimSeq(text1, text3)"
      ],
      "execution_count": 0,
      "outputs": [
        {
          "output_type": "execute_result",
          "data": {
            "text/plain": [
              "0.7913359277011551"
            ]
          },
          "metadata": {
            "tags": []
          },
          "execution_count": 15
        }
      ]
    },
    {
      "cell_type": "markdown",
      "metadata": {
        "id": "t0ZSO36cB5UX",
        "colab_type": "text"
      },
      "source": [
        "#Метод ближ. соседа"
      ]
    },
    {
      "cell_type": "code",
      "metadata": {
        "id": "mXOE3szvCHF7",
        "colab_type": "code",
        "outputId": "dd1dfd4b-d5a7-4f2f-aea4-e9dd9b5f32f9",
        "colab": {
          "base_uri": "https://localhost:8080/",
          "height": 34
        }
      },
      "source": [
        "from sklearn.neighbors import KNeighborsClassifier\n",
        " \n",
        "knn = KNeighborsClassifier(n_neighbors=1)\n",
        "\n",
        "dataX = np.array([[2,1,1],[1,1,5]])\n",
        "dataY = np.array(['ghb','ds'])\n",
        "\n",
        "dataXTest = np.array([[1,1,3]])\n",
        "\n",
        "knn.fit(dataX, dataY)\n",
        "\n",
        "knn.predict(dataXTest)[0]"
      ],
      "execution_count": 0,
      "outputs": [
        {
          "output_type": "execute_result",
          "data": {
            "text/plain": [
              "'ds'"
            ]
          },
          "metadata": {
            "tags": []
          },
          "execution_count": 17
        }
      ]
    },
    {
      "cell_type": "markdown",
      "metadata": {
        "id": "woDZ_td4OzXQ",
        "colab_type": "text"
      },
      "source": [
        "#Чат-бот"
      ]
    },
    {
      "cell_type": "code",
      "metadata": {
        "id": "03yaJsvHO3Bm",
        "colab_type": "code",
        "colab": {}
      },
      "source": [
        "#Получение векторов из вопросов\n",
        "def GetDataX(qs):\n",
        "  retObj = np.zeros(shape=(len(qs),300))\n",
        "  l = 0\n",
        "\n",
        "  for i in qs:\n",
        "    retObj[l] = Seq2Vec(i, True)\n",
        "    l=l+1\n",
        "  \n",
        "  return retObj\n",
        "\n",
        "\n",
        "\n",
        "# Обучение бота\n",
        "def Train(knn, qs, ans):\n",
        "  dataX = GetDataX(qs)\n",
        "  knn.fit(dataX, ans)\n",
        "\n",
        "# Ответ\n",
        "def Answer(knn, q):\n",
        "  vec = [Seq2Vec(q, True)]\n",
        "  return knn.predict(vec)[0]\n",
        "\n",
        "\n",
        "#Данные\n",
        "qs = ['Привет', 'Сколько стоит дом', 'Как проехать реке', 'До свидания', 'Как жизнь?']\n",
        "ans = ['Привет!', 'Этот дом стоит $45k', 'Посмотри карту', 'пока', 'норм']\n",
        "\n",
        "#Инициализация и обучение\n",
        "knn = KNeighborsClassifier(n_neighbors=1)\n",
        "Train(knn, qs, ans)\n",
        "\n"
      ],
      "execution_count": 0,
      "outputs": []
    },
    {
      "cell_type": "markdown",
      "metadata": {
        "id": "5D7ySIEsXRRb",
        "colab_type": "text"
      },
      "source": [
        "#Тест"
      ]
    },
    {
      "cell_type": "code",
      "metadata": {
        "id": "ICgBmNDxXWit",
        "colab_type": "code",
        "outputId": "a9b2bbe7-82bb-4cc1-d2e4-e95faf3fc875",
        "colab": {
          "base_uri": "https://localhost:8080/",
          "height": 34
        }
      },
      "source": [
        "Answer(knn, \"Здравствуйте\")"
      ],
      "execution_count": 0,
      "outputs": [
        {
          "output_type": "execute_result",
          "data": {
            "text/plain": [
              "'Привет!'"
            ]
          },
          "metadata": {
            "tags": []
          },
          "execution_count": 19
        }
      ]
    },
    {
      "cell_type": "code",
      "metadata": {
        "id": "X08TNEZhZ-BI",
        "colab_type": "code",
        "outputId": "6d03703b-b3fc-434a-c122-b7dced97310c",
        "colab": {
          "base_uri": "https://localhost:8080/",
          "height": 34
        }
      },
      "source": [
        "Answer(knn, \"Как добраться до реки?\")"
      ],
      "execution_count": 0,
      "outputs": [
        {
          "output_type": "execute_result",
          "data": {
            "text/plain": [
              "'Посмотри карту'"
            ]
          },
          "metadata": {
            "tags": []
          },
          "execution_count": 20
        }
      ]
    },
    {
      "cell_type": "code",
      "metadata": {
        "id": "3b4HzDTGZ-Ne",
        "colab_type": "code",
        "outputId": "d53eb183-9631-433e-ea39-3e426133094f",
        "colab": {
          "base_uri": "https://localhost:8080/",
          "height": 34
        }
      },
      "source": [
        "Answer(knn, \"Какова цена этого здания?\")"
      ],
      "execution_count": 0,
      "outputs": [
        {
          "output_type": "execute_result",
          "data": {
            "text/plain": [
              "'Этот дом стоит $45k'"
            ]
          },
          "metadata": {
            "tags": []
          },
          "execution_count": 21
        }
      ]
    },
    {
      "cell_type": "code",
      "metadata": {
        "id": "T4Q6L2gzxGIG",
        "colab_type": "code",
        "outputId": "75953c04-6746-47c0-cc36-11718eebbd36",
        "colab": {
          "base_uri": "https://localhost:8080/",
          "height": 561
        }
      },
      "source": [
        "while 1:\n",
        "  text = str(input(\"Я: \"))\n",
        "  print(\"Бот:\",Answer(knn, text))\n",
        "  if text == \"досвидания\": break"
      ],
      "execution_count": 0,
      "outputs": [
        {
          "output_type": "stream",
          "text": [
            "Я: как добраться до моря\n",
            "Бот: Посмотри карту\n"
          ],
          "name": "stdout"
        },
        {
          "output_type": "error",
          "ename": "KeyboardInterrupt",
          "evalue": "ignored",
          "traceback": [
            "\u001b[0;31m---------------------------------------------------------------------------\u001b[0m",
            "\u001b[0;31mKeyboardInterrupt\u001b[0m                         Traceback (most recent call last)",
            "\u001b[0;32m/usr/local/lib/python3.6/dist-packages/ipykernel/kernelbase.py\u001b[0m in \u001b[0;36m_input_request\u001b[0;34m(self, prompt, ident, parent, password)\u001b[0m\n\u001b[1;32m    728\u001b[0m             \u001b[0;32mtry\u001b[0m\u001b[0;34m:\u001b[0m\u001b[0;34m\u001b[0m\u001b[0;34m\u001b[0m\u001b[0m\n\u001b[0;32m--> 729\u001b[0;31m                 \u001b[0mident\u001b[0m\u001b[0;34m,\u001b[0m \u001b[0mreply\u001b[0m \u001b[0;34m=\u001b[0m \u001b[0mself\u001b[0m\u001b[0;34m.\u001b[0m\u001b[0msession\u001b[0m\u001b[0;34m.\u001b[0m\u001b[0mrecv\u001b[0m\u001b[0;34m(\u001b[0m\u001b[0mself\u001b[0m\u001b[0;34m.\u001b[0m\u001b[0mstdin_socket\u001b[0m\u001b[0;34m,\u001b[0m \u001b[0;36m0\u001b[0m\u001b[0;34m)\u001b[0m\u001b[0;34m\u001b[0m\u001b[0;34m\u001b[0m\u001b[0m\n\u001b[0m\u001b[1;32m    730\u001b[0m             \u001b[0;32mexcept\u001b[0m \u001b[0mException\u001b[0m\u001b[0;34m:\u001b[0m\u001b[0;34m\u001b[0m\u001b[0;34m\u001b[0m\u001b[0m\n",
            "\u001b[0;32m/usr/local/lib/python3.6/dist-packages/jupyter_client/session.py\u001b[0m in \u001b[0;36mrecv\u001b[0;34m(self, socket, mode, content, copy)\u001b[0m\n\u001b[1;32m    802\u001b[0m         \u001b[0;32mtry\u001b[0m\u001b[0;34m:\u001b[0m\u001b[0;34m\u001b[0m\u001b[0;34m\u001b[0m\u001b[0m\n\u001b[0;32m--> 803\u001b[0;31m             \u001b[0mmsg_list\u001b[0m \u001b[0;34m=\u001b[0m \u001b[0msocket\u001b[0m\u001b[0;34m.\u001b[0m\u001b[0mrecv_multipart\u001b[0m\u001b[0;34m(\u001b[0m\u001b[0mmode\u001b[0m\u001b[0;34m,\u001b[0m \u001b[0mcopy\u001b[0m\u001b[0;34m=\u001b[0m\u001b[0mcopy\u001b[0m\u001b[0;34m)\u001b[0m\u001b[0;34m\u001b[0m\u001b[0;34m\u001b[0m\u001b[0m\n\u001b[0m\u001b[1;32m    804\u001b[0m         \u001b[0;32mexcept\u001b[0m \u001b[0mzmq\u001b[0m\u001b[0;34m.\u001b[0m\u001b[0mZMQError\u001b[0m \u001b[0;32mas\u001b[0m \u001b[0me\u001b[0m\u001b[0;34m:\u001b[0m\u001b[0;34m\u001b[0m\u001b[0;34m\u001b[0m\u001b[0m\n",
            "\u001b[0;32m/usr/local/lib/python3.6/dist-packages/zmq/sugar/socket.py\u001b[0m in \u001b[0;36mrecv_multipart\u001b[0;34m(self, flags, copy, track)\u001b[0m\n\u001b[1;32m    474\u001b[0m         \"\"\"\n\u001b[0;32m--> 475\u001b[0;31m         \u001b[0mparts\u001b[0m \u001b[0;34m=\u001b[0m \u001b[0;34m[\u001b[0m\u001b[0mself\u001b[0m\u001b[0;34m.\u001b[0m\u001b[0mrecv\u001b[0m\u001b[0;34m(\u001b[0m\u001b[0mflags\u001b[0m\u001b[0;34m,\u001b[0m \u001b[0mcopy\u001b[0m\u001b[0;34m=\u001b[0m\u001b[0mcopy\u001b[0m\u001b[0;34m,\u001b[0m \u001b[0mtrack\u001b[0m\u001b[0;34m=\u001b[0m\u001b[0mtrack\u001b[0m\u001b[0;34m)\u001b[0m\u001b[0;34m]\u001b[0m\u001b[0;34m\u001b[0m\u001b[0;34m\u001b[0m\u001b[0m\n\u001b[0m\u001b[1;32m    476\u001b[0m         \u001b[0;31m# have first part already, only loop while more to receive\u001b[0m\u001b[0;34m\u001b[0m\u001b[0;34m\u001b[0m\u001b[0;34m\u001b[0m\u001b[0m\n",
            "\u001b[0;32mzmq/backend/cython/socket.pyx\u001b[0m in \u001b[0;36mzmq.backend.cython.socket.Socket.recv\u001b[0;34m()\u001b[0m\n",
            "\u001b[0;32mzmq/backend/cython/socket.pyx\u001b[0m in \u001b[0;36mzmq.backend.cython.socket.Socket.recv\u001b[0;34m()\u001b[0m\n",
            "\u001b[0;32mzmq/backend/cython/socket.pyx\u001b[0m in \u001b[0;36mzmq.backend.cython.socket._recv_copy\u001b[0;34m()\u001b[0m\n",
            "\u001b[0;32m/usr/local/lib/python3.6/dist-packages/zmq/backend/cython/checkrc.pxd\u001b[0m in \u001b[0;36mzmq.backend.cython.checkrc._check_rc\u001b[0;34m()\u001b[0m\n",
            "\u001b[0;31mKeyboardInterrupt\u001b[0m: ",
            "\nDuring handling of the above exception, another exception occurred:\n",
            "\u001b[0;31mKeyboardInterrupt\u001b[0m                         Traceback (most recent call last)",
            "\u001b[0;32m<ipython-input-23-34d5e6f89b9d>\u001b[0m in \u001b[0;36m<module>\u001b[0;34m()\u001b[0m\n\u001b[1;32m      1\u001b[0m \u001b[0;32mwhile\u001b[0m \u001b[0;36m1\u001b[0m\u001b[0;34m:\u001b[0m\u001b[0;34m\u001b[0m\u001b[0;34m\u001b[0m\u001b[0m\n\u001b[0;32m----> 2\u001b[0;31m   \u001b[0mtext\u001b[0m \u001b[0;34m=\u001b[0m \u001b[0mstr\u001b[0m\u001b[0;34m(\u001b[0m\u001b[0minput\u001b[0m\u001b[0;34m(\u001b[0m\u001b[0;34m\"Я: \"\u001b[0m\u001b[0;34m)\u001b[0m\u001b[0;34m)\u001b[0m\u001b[0;34m\u001b[0m\u001b[0;34m\u001b[0m\u001b[0m\n\u001b[0m\u001b[1;32m      3\u001b[0m   \u001b[0mprint\u001b[0m\u001b[0;34m(\u001b[0m\u001b[0;34m\"Бот:\"\u001b[0m\u001b[0;34m,\u001b[0m\u001b[0mAnswer\u001b[0m\u001b[0;34m(\u001b[0m\u001b[0mknn\u001b[0m\u001b[0;34m,\u001b[0m \u001b[0mtext\u001b[0m\u001b[0;34m)\u001b[0m\u001b[0;34m)\u001b[0m\u001b[0;34m\u001b[0m\u001b[0;34m\u001b[0m\u001b[0m\n\u001b[1;32m      4\u001b[0m   \u001b[0;32mif\u001b[0m \u001b[0mtext\u001b[0m \u001b[0;34m==\u001b[0m \u001b[0;34m\"досвидания\"\u001b[0m\u001b[0;34m:\u001b[0m \u001b[0;32mbreak\u001b[0m\u001b[0;34m\u001b[0m\u001b[0;34m\u001b[0m\u001b[0m\n",
            "\u001b[0;32m/usr/local/lib/python3.6/dist-packages/ipykernel/kernelbase.py\u001b[0m in \u001b[0;36mraw_input\u001b[0;34m(self, prompt)\u001b[0m\n\u001b[1;32m    702\u001b[0m             \u001b[0mself\u001b[0m\u001b[0;34m.\u001b[0m\u001b[0m_parent_ident\u001b[0m\u001b[0;34m,\u001b[0m\u001b[0;34m\u001b[0m\u001b[0;34m\u001b[0m\u001b[0m\n\u001b[1;32m    703\u001b[0m             \u001b[0mself\u001b[0m\u001b[0;34m.\u001b[0m\u001b[0m_parent_header\u001b[0m\u001b[0;34m,\u001b[0m\u001b[0;34m\u001b[0m\u001b[0;34m\u001b[0m\u001b[0m\n\u001b[0;32m--> 704\u001b[0;31m             \u001b[0mpassword\u001b[0m\u001b[0;34m=\u001b[0m\u001b[0;32mFalse\u001b[0m\u001b[0;34m,\u001b[0m\u001b[0;34m\u001b[0m\u001b[0;34m\u001b[0m\u001b[0m\n\u001b[0m\u001b[1;32m    705\u001b[0m         )\n\u001b[1;32m    706\u001b[0m \u001b[0;34m\u001b[0m\u001b[0m\n",
            "\u001b[0;32m/usr/local/lib/python3.6/dist-packages/ipykernel/kernelbase.py\u001b[0m in \u001b[0;36m_input_request\u001b[0;34m(self, prompt, ident, parent, password)\u001b[0m\n\u001b[1;32m    732\u001b[0m             \u001b[0;32mexcept\u001b[0m \u001b[0mKeyboardInterrupt\u001b[0m\u001b[0;34m:\u001b[0m\u001b[0;34m\u001b[0m\u001b[0;34m\u001b[0m\u001b[0m\n\u001b[1;32m    733\u001b[0m                 \u001b[0;31m# re-raise KeyboardInterrupt, to truncate traceback\u001b[0m\u001b[0;34m\u001b[0m\u001b[0;34m\u001b[0m\u001b[0;34m\u001b[0m\u001b[0m\n\u001b[0;32m--> 734\u001b[0;31m                 \u001b[0;32mraise\u001b[0m \u001b[0mKeyboardInterrupt\u001b[0m\u001b[0;34m\u001b[0m\u001b[0;34m\u001b[0m\u001b[0m\n\u001b[0m\u001b[1;32m    735\u001b[0m             \u001b[0;32melse\u001b[0m\u001b[0;34m:\u001b[0m\u001b[0;34m\u001b[0m\u001b[0;34m\u001b[0m\u001b[0m\n\u001b[1;32m    736\u001b[0m                 \u001b[0;32mbreak\u001b[0m\u001b[0;34m\u001b[0m\u001b[0;34m\u001b[0m\u001b[0m\n",
            "\u001b[0;31mKeyboardInterrupt\u001b[0m: "
          ]
        }
      ]
    }
  ]
}